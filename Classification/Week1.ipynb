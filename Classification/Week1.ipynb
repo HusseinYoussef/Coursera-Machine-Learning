{
  "nbformat": 4,
  "nbformat_minor": 0,
  "metadata": {
    "colab": {
      "name": "ML Specialization.ipynb",
      "provenance": [],
      "collapsed_sections": [],
      "toc_visible": true,
      "machine_shape": "hm"
    },
    "kernelspec": {
      "name": "python3",
      "display_name": "Python 3"
    }
  },
  "cells": [
    {
      "cell_type": "code",
      "metadata": {
        "id": "yRolDTzX98Rx",
        "outputId": "64f60890-302a-4914-8224-58b6e1158645",
        "colab": {
          "base_uri": "https://localhost:8080/",
          "height": 34
        }
      },
      "source": [
        "from google.colab import drive\n",
        "drive.mount('/content/drive')"
      ],
      "execution_count": null,
      "outputs": [
        {
          "output_type": "stream",
          "text": [
            "Mounted at /content/drive\n"
          ],
          "name": "stdout"
        }
      ]
    },
    {
      "cell_type": "code",
      "metadata": {
        "id": "wsf2asxy95cH"
      },
      "source": [
        "import pandas as pd\n",
        "import numpy as np"
      ],
      "execution_count": null,
      "outputs": []
    },
    {
      "cell_type": "code",
      "metadata": {
        "id": "_8kEUz5uRG9x"
      },
      "source": [
        "products = pd.read_csv('/content/drive/My Drive/ML Specialization/amazon_baby.csv')"
      ],
      "execution_count": null,
      "outputs": []
    },
    {
      "cell_type": "code",
      "metadata": {
        "id": "ObQ73kOxjgJP"
      },
      "source": [
        "import re\n",
        "import string\n",
        "\n",
        "def remove_punctuation(text):\n",
        "\n",
        "    pattern = f'[{string.punctuation}]'\n",
        "    return re.sub(pattern, '', text)\n",
        "\n",
        "products = products.fillna({'review':''})\n",
        "products['review_clean'] = products['review'].apply(remove_punctuation)\n",
        "products = products[products['rating'] != 3]"
      ],
      "execution_count": null,
      "outputs": []
    },
    {
      "cell_type": "code",
      "metadata": {
        "id": "CkDkDhCkaEcE"
      },
      "source": [
        "products['sentiment'] = products['rating'].apply(lambda x: 1 if x>3 else -1)"
      ],
      "execution_count": null,
      "outputs": []
    },
    {
      "cell_type": "code",
      "metadata": {
        "id": "4eizRiVpS79Z",
        "outputId": "9fe278a0-d3e4-49d2-ee65-5ead47c64f12",
        "colab": {
          "base_uri": "https://localhost:8080/",
          "height": 289
        }
      },
      "source": [
        "products.head()"
      ],
      "execution_count": null,
      "outputs": [
        {
          "output_type": "execute_result",
          "data": {
            "text/html": [
              "<div>\n",
              "<style scoped>\n",
              "    .dataframe tbody tr th:only-of-type {\n",
              "        vertical-align: middle;\n",
              "    }\n",
              "\n",
              "    .dataframe tbody tr th {\n",
              "        vertical-align: top;\n",
              "    }\n",
              "\n",
              "    .dataframe thead th {\n",
              "        text-align: right;\n",
              "    }\n",
              "</style>\n",
              "<table border=\"1\" class=\"dataframe\">\n",
              "  <thead>\n",
              "    <tr style=\"text-align: right;\">\n",
              "      <th></th>\n",
              "      <th>name</th>\n",
              "      <th>review</th>\n",
              "      <th>rating</th>\n",
              "      <th>review_clean</th>\n",
              "      <th>sentiment</th>\n",
              "    </tr>\n",
              "  </thead>\n",
              "  <tbody>\n",
              "    <tr>\n",
              "      <th>1</th>\n",
              "      <td>Planetwise Wipe Pouch</td>\n",
              "      <td>it came early and was not disappointed. i love...</td>\n",
              "      <td>5</td>\n",
              "      <td>it came early and was not disappointed i love ...</td>\n",
              "      <td>1</td>\n",
              "    </tr>\n",
              "    <tr>\n",
              "      <th>2</th>\n",
              "      <td>Annas Dream Full Quilt with 2 Shams</td>\n",
              "      <td>Very soft and comfortable and warmer than it l...</td>\n",
              "      <td>5</td>\n",
              "      <td>Very soft and comfortable and warmer than it l...</td>\n",
              "      <td>1</td>\n",
              "    </tr>\n",
              "    <tr>\n",
              "      <th>3</th>\n",
              "      <td>Stop Pacifier Sucking without tears with Thumb...</td>\n",
              "      <td>This is a product well worth the purchase.  I ...</td>\n",
              "      <td>5</td>\n",
              "      <td>This is a product well worth the purchase  I h...</td>\n",
              "      <td>1</td>\n",
              "    </tr>\n",
              "    <tr>\n",
              "      <th>4</th>\n",
              "      <td>Stop Pacifier Sucking without tears with Thumb...</td>\n",
              "      <td>All of my kids have cried non-stop when I trie...</td>\n",
              "      <td>5</td>\n",
              "      <td>All of my kids have cried nonstop when I tried...</td>\n",
              "      <td>1</td>\n",
              "    </tr>\n",
              "    <tr>\n",
              "      <th>5</th>\n",
              "      <td>Stop Pacifier Sucking without tears with Thumb...</td>\n",
              "      <td>When the Binky Fairy came to our house, we did...</td>\n",
              "      <td>5</td>\n",
              "      <td>When the Binky Fairy came to our house we didn...</td>\n",
              "      <td>1</td>\n",
              "    </tr>\n",
              "  </tbody>\n",
              "</table>\n",
              "</div>"
            ],
            "text/plain": [
              "                                                name  ... sentiment\n",
              "1                              Planetwise Wipe Pouch  ...         1\n",
              "2                Annas Dream Full Quilt with 2 Shams  ...         1\n",
              "3  Stop Pacifier Sucking without tears with Thumb...  ...         1\n",
              "4  Stop Pacifier Sucking without tears with Thumb...  ...         1\n",
              "5  Stop Pacifier Sucking without tears with Thumb...  ...         1\n",
              "\n",
              "[5 rows x 5 columns]"
            ]
          },
          "metadata": {
            "tags": []
          },
          "execution_count": 35
        }
      ]
    },
    {
      "cell_type": "code",
      "metadata": {
        "id": "YnjnGFiecGIj"
      },
      "source": [
        "import json\n",
        "\n",
        "with open('/content/drive/My Drive/ML Specialization/module-2-assignment-train-idx.json', 'r') as train_file:\n",
        "    train_indices = json.load(train_file)\n",
        "with open('/content/drive/My Drive/ML Specialization/module-2-assignment-test-idx.json', 'r') as test_file:\n",
        "    test_indices = json.load(test_file)\n",
        "    \n",
        "train_data = products.iloc[train_indices]\n",
        "test_data = products.iloc[test_indices]"
      ],
      "execution_count": null,
      "outputs": []
    },
    {
      "cell_type": "code",
      "metadata": {
        "id": "u6fjRIrYcqYs",
        "outputId": "9657d054-e424-4ce5-d117-ba747b04121b",
        "colab": {
          "base_uri": "https://localhost:8080/",
          "height": 51
        }
      },
      "source": [
        "from sklearn.feature_extraction.text import CountVectorizer\n",
        "\n",
        "vectorizer = CountVectorizer(token_pattern=r'\\b\\w+\\b')\n",
        "train_matrix = vectorizer.fit_transform(train_data['review_clean'])\n",
        "test_matrix = vectorizer.transform(test_data['review_clean'])\n",
        "# print(vectorizer.get_feature_names())\n",
        "print(len(vectorizer.get_feature_names()))\n",
        "print(type(train_matrix))"
      ],
      "execution_count": null,
      "outputs": [
        {
          "output_type": "stream",
          "text": [
            "121706\n",
            "<class 'scipy.sparse.csr.csr_matrix'>\n"
          ],
          "name": "stdout"
        }
      ]
    },
    {
      "cell_type": "code",
      "metadata": {
        "id": "X9u26cDJjAkM",
        "outputId": "3e12e13e-503b-40d2-8ead-e66a3324cdba",
        "colab": {
          "base_uri": "https://localhost:8080/",
          "height": 258
        }
      },
      "source": [
        "from sklearn.linear_model import LogisticRegression\n",
        "\n",
        "sentiment_model = LogisticRegression()\n",
        "sentiment_model.fit(train_matrix, train_data['sentiment'])"
      ],
      "execution_count": null,
      "outputs": [
        {
          "output_type": "stream",
          "text": [
            "/usr/local/lib/python3.6/dist-packages/sklearn/linear_model/_logistic.py:940: ConvergenceWarning: lbfgs failed to converge (status=1):\n",
            "STOP: TOTAL NO. of ITERATIONS REACHED LIMIT.\n",
            "\n",
            "Increase the number of iterations (max_iter) or scale the data as shown in:\n",
            "    https://scikit-learn.org/stable/modules/preprocessing.html\n",
            "Please also refer to the documentation for alternative solver options:\n",
            "    https://scikit-learn.org/stable/modules/linear_model.html#logistic-regression\n",
            "  extra_warning_msg=_LOGISTIC_SOLVER_CONVERGENCE_MSG)\n"
          ],
          "name": "stderr"
        },
        {
          "output_type": "execute_result",
          "data": {
            "text/plain": [
              "LogisticRegression(C=1.0, class_weight=None, dual=False, fit_intercept=True,\n",
              "                   intercept_scaling=1, l1_ratio=None, max_iter=100,\n",
              "                   multi_class='auto', n_jobs=None, penalty='l2',\n",
              "                   random_state=None, solver='lbfgs', tol=0.0001, verbose=0,\n",
              "                   warm_start=False)"
            ]
          },
          "metadata": {
            "tags": []
          },
          "execution_count": 72
        }
      ]
    },
    {
      "cell_type": "code",
      "metadata": {
        "id": "jmbEFoHanC0C",
        "outputId": "71c2fcad-5ca5-44c5-f5f4-0a920803f577",
        "colab": {
          "base_uri": "https://localhost:8080/",
          "height": 34
        }
      },
      "source": [
        "np.sum(sentiment_model.coef_ >= 0)"
      ],
      "execution_count": null,
      "outputs": [
        {
          "output_type": "execute_result",
          "data": {
            "text/plain": [
              "90295"
            ]
          },
          "metadata": {
            "tags": []
          },
          "execution_count": 73
        }
      ]
    },
    {
      "cell_type": "code",
      "metadata": {
        "id": "qmXPOECuoB6c",
        "outputId": "d7e8dd03-6b15-4c20-8b64-ebbfd5458712",
        "colab": {
          "base_uri": "https://localhost:8080/",
          "height": 119
        }
      },
      "source": [
        "sample_test_data = test_data[10:13]\n",
        "print(sample_test_data)"
      ],
      "execution_count": null,
      "outputs": [
        {
          "output_type": "stream",
          "text": [
            "                                                 name  ... sentiment\n",
            "59                          Our Baby Girl Memory Book  ...         1\n",
            "71  Wall Decor Removable Decal Sticker - Colorful ...  ...        -1\n",
            "91  New Style Trailing Cherry Blossom Tree Decal R...  ...        -1\n",
            "\n",
            "[3 rows x 5 columns]\n"
          ],
          "name": "stdout"
        }
      ]
    },
    {
      "cell_type": "code",
      "metadata": {
        "id": "QOvhpwwHoEdo",
        "outputId": "0a7fc3e2-12cb-4fb0-deb4-7cd08d807106",
        "colab": {
          "base_uri": "https://localhost:8080/",
          "height": 71
        }
      },
      "source": [
        "print(sample_test_data.iloc[0]['review'])"
      ],
      "execution_count": null,
      "outputs": [
        {
          "output_type": "stream",
          "text": [
            "Absolutely love it and all of the Scripture in it.  I purchased the Baby Boy version for my grandson when he was born and my daughter-in-law was thrilled to receive the same book again.\n",
            "Would not purchase again or recommend. The decals were thick almost plastic like and were coming off the wall as I was applying them! The would NOT stick! Literally stayed stuck for about 5 minutes then started peeling off.\n"
          ],
          "name": "stdout"
        }
      ]
    },
    {
      "cell_type": "code",
      "metadata": {
        "id": "5CoCCU6koWAg",
        "outputId": "af57e7e5-bf99-4f55-cb76-c556e5868e9e",
        "colab": {
          "base_uri": "https://localhost:8080/",
          "height": 54
        }
      },
      "source": [
        "print(sample_test_data.iloc[1]['review'])"
      ],
      "execution_count": null,
      "outputs": [
        {
          "output_type": "stream",
          "text": [
            "Would not purchase again or recommend. The decals were thick almost plastic like and were coming off the wall as I was applying them! The would NOT stick! Literally stayed stuck for about 5 minutes then started peeling off.\n"
          ],
          "name": "stdout"
        }
      ]
    },
    {
      "cell_type": "code",
      "metadata": {
        "id": "lamUINei3D4k",
        "outputId": "5622b97e-b5c0-4182-d36e-1dc17aee9bea",
        "colab": {
          "base_uri": "https://localhost:8080/",
          "height": 34
        }
      },
      "source": [
        "sample_test_matrix = vectorizer.transform(sample_test_data['review_clean'])\n",
        "scores = sentiment_model.decision_function(sample_test_matrix)\n",
        "print(scores)"
      ],
      "execution_count": null,
      "outputs": [
        {
          "output_type": "stream",
          "text": [
            "[  5.19789313  -3.26189495 -10.94663126]\n"
          ],
          "name": "stdout"
        }
      ]
    },
    {
      "cell_type": "code",
      "metadata": {
        "id": "9k3JICH46L8E",
        "outputId": "da97a020-30dc-48bb-db4a-8467dfbd946e",
        "colab": {
          "base_uri": "https://localhost:8080/",
          "height": 459
        }
      },
      "source": [
        "scores = sentiment_model.decision_function(test_matrix)\n",
        "lst = []\n",
        "for i in range(len(test_data)):\n",
        "    lst.append((scores[i], test_data.iloc[i]['name']))\n",
        "lst.sort(reverse=True)\n",
        "lst[:20]"
      ],
      "execution_count": null,
      "outputs": [
        {
          "output_type": "execute_result",
          "data": {
            "text/plain": [
              "[(50.90031166517181, 'Infantino Wrap and Tie Baby Carrier, Black Blueberries'),\n",
              " (48.143669252989994, 'Baby Einstein Around The World Discovery Center'),\n",
              " (45.53908258348218,\n",
              "  'Graco FastAction Fold Jogger Click Connect Stroller, Grapeade'),\n",
              " (42.39750299310422,\n",
              "  'Roan Rocco Classic Pram Stroller 2-in-1 with Bassinet and Seat Unit - Coffee'),\n",
              " (41.910421245506534, 'Diono RadianRXT Convertible Car Seat, Plum'),\n",
              " (41.143631895991895, 'Britax 2012 B-Agile Stroller, Red'),\n",
              " (40.967640997215106, 'Evenflo X Sport Plus Convenience Stroller - Christina'),\n",
              " (40.30381097048069, \"Graco Pack 'n Play Element Playard - Flint\"),\n",
              " (37.198039177290916, \"Fisher-Price Cradle 'N Swing,  My Little Snugabunny\"),\n",
              " (36.84998348542043, 'Stork Craft Beatrice Combo Tower Chest, White'),\n",
              " (36.5531726089077, 'Mamas &amp; Papas 2014 Urbo2 Stroller - Black'),\n",
              " (35.991595291943376,\n",
              "  'Baby Jogger City Mini GT Double Stroller, Shadow/Orange'),\n",
              " (35.58613004726488, \"P'Kolino Silly Soft Seating in Tias, Green\"),\n",
              " (35.24281174291469,\n",
              "  'Buttons Cloth Diaper Cover - One Size - 8 Color Options'),\n",
              " (35.16928188042321, 'Stokke Scoot Stroller - Light Green'),\n",
              " (35.05469107000352,\n",
              "  'Freemie Hands-Free Concealable Breast Pump Collection System'),\n",
              " (35.0450230198451, 'Evenflo 6 Pack Classic Glass Bottle, 4-Ounce'),\n",
              " (34.99786386726722, 'Britax Boulevard 70-G3 Convertible Car Seat Seat, Onyx'),\n",
              " (34.53219830741728, 'Simple Wishes Hands-Free Breastpump Bra, Pink, XS-L'),\n",
              " (34.45446637397307,\n",
              "  'Baby Jogger City Mini GT Single Stroller, Shadow/Orange')]"
            ]
          },
          "metadata": {
            "tags": []
          },
          "execution_count": 120
        }
      ]
    },
    {
      "cell_type": "code",
      "metadata": {
        "id": "7iY2X5da9yQR",
        "outputId": "f44bb365-8992-4852-b8cc-15fb85c3b38a",
        "colab": {
          "base_uri": "https://localhost:8080/",
          "height": 476
        }
      },
      "source": [
        "lst[-20:]"
      ],
      "execution_count": null,
      "outputs": [
        {
          "output_type": "execute_result",
          "data": {
            "text/plain": [
              "[(-20.216950382750895,\n",
              "  'Motorola Digital Video Baby Monitor with Room Temperature Thermometer'),\n",
              " (-20.55817900621977, 'Regalo My Cot Portable Bed, Royal Blue'),\n",
              " (-20.735242592136725, 'Baby Jogger Summit XC Double Stroller, Red/Black'),\n",
              " (-20.921075383820135,\n",
              "  'VTech Communications Safe &amp; Sound Digital Audio Monitor with two Parent Units'),\n",
              " (-21.0199439663041, 'Philips AVENT Newborn Starter Set'),\n",
              " (-21.116258836883425, 'Peg-Perego Tatamia High Chair, White Latte'),\n",
              " (-21.274255396561255, 'Safety 1st Deluxe 4-in-1 Bath Station'),\n",
              " (-21.490428082661747, 'Snuza Portable Baby Movement Monitor'),\n",
              " (-21.928440591459204, 'Ellaroo Mei Tai Baby Carrier - Hershey'),\n",
              " (-21.971725764137776, 'Safety 1st Exchangeable Tip 3 in 1 Thermometer'),\n",
              " (-22.07372535285331,\n",
              "  'Samsung SEW-3037W Wireless Pan Tilt Video Baby Monitor Infrared Night Vision and Zoom, 3.5 inch'),\n",
              " (-22.295023106654007, 'Cloth Diaper Sprayer--styles may vary'),\n",
              " (-22.856335859967334, 'Baby Trend Inertia Infant Car Seat - Horizon'),\n",
              " (-23.122425153611193, 'Safety 1st High-Def Digital Monitor'),\n",
              " (-23.3490072536879, 'One Step Ahead Hide-Away Extra Long Bed Rail'),\n",
              " (-23.496474242071663,\n",
              "  'Adiri BPA Free Natural Nurser Ultimate Bottle Stage 1 White, Slow Flow (0-3 months)'),\n",
              " (-28.11369948225037,\n",
              "  \"Levana Safe N'See Digital Video Baby Monitor with Talk-to-Baby Intercom and Lullaby Control (LV-TW501)\"),\n",
              " (-28.630639279530396,\n",
              "  'VTech Communications Safe &amp; Sounds Full Color Video and Audio Monitor'),\n",
              " (-33.25363640141564, 'Fisher-Price Ocean Wonders Aquarium Bouncer'),\n",
              " (-34.67475202131054,\n",
              "  'The First Years True Choice P400 Premium Digital Monitor, 2 Parent Unit')]"
            ]
          },
          "metadata": {
            "tags": []
          },
          "execution_count": 121
        }
      ]
    },
    {
      "cell_type": "code",
      "metadata": {
        "id": "2-aVBDTP-zVa",
        "outputId": "a6aac4b5-db5b-4e86-9cdf-5b20c540bf74",
        "colab": {
          "base_uri": "https://localhost:8080/",
          "height": 34
        }
      },
      "source": [
        "print(sentiment_model.score(test_matrix, test_data['sentiment']))"
      ],
      "execution_count": null,
      "outputs": [
        {
          "output_type": "stream",
          "text": [
            "0.9320854331653468\n"
          ],
          "name": "stdout"
        }
      ]
    },
    {
      "cell_type": "code",
      "metadata": {
        "id": "qSA00FSD-zTe"
      },
      "source": [
        "significant_words = ['love', 'great', 'easy', 'old', 'little', 'perfect', 'loves', \n",
        "      'well', 'able', 'car', 'broke', 'less', 'even', 'waste', 'disappointed', \n",
        "      'work', 'product', 'money', 'would', 'return']\n",
        "\n",
        "vectorizer_word_subset = CountVectorizer(vocabulary=significant_words)\n",
        "train_matrix_word_subset = vectorizer_word_subset.transform(train_data['review_clean'])\n",
        "test_matrix_word_subset = vectorizer_word_subset.transform(test_data['review_clean'])"
      ],
      "execution_count": null,
      "outputs": []
    },
    {
      "cell_type": "code",
      "metadata": {
        "id": "F-NzOwr7AToV",
        "outputId": "d596ccf9-1889-4f3a-df85-15f1d66256fc",
        "colab": {
          "base_uri": "https://localhost:8080/",
          "height": 102
        }
      },
      "source": [
        "simple_model = LogisticRegression()\n",
        "simple_model.fit(train_matrix_word_subset, train_data['sentiment'])"
      ],
      "execution_count": null,
      "outputs": [
        {
          "output_type": "execute_result",
          "data": {
            "text/plain": [
              "LogisticRegression(C=1.0, class_weight=None, dual=False, fit_intercept=True,\n",
              "                   intercept_scaling=1, l1_ratio=None, max_iter=100,\n",
              "                   multi_class='auto', n_jobs=None, penalty='l2',\n",
              "                   random_state=None, solver='lbfgs', tol=0.0001, verbose=0,\n",
              "                   warm_start=False)"
            ]
          },
          "metadata": {
            "tags": []
          },
          "execution_count": 96
        }
      ]
    },
    {
      "cell_type": "code",
      "metadata": {
        "id": "4M1n7Ii5A3J_",
        "outputId": "57b83fec-4225-4641-98b6-341f16342c22",
        "colab": {
          "base_uri": "https://localhost:8080/",
          "height": 34
        }
      },
      "source": [
        "np.sum(simple_model.coef_ >=0)"
      ],
      "execution_count": null,
      "outputs": [
        {
          "output_type": "execute_result",
          "data": {
            "text/plain": [
              "10"
            ]
          },
          "metadata": {
            "tags": []
          },
          "execution_count": 107
        }
      ]
    },
    {
      "cell_type": "code",
      "metadata": {
        "id": "Cy6V-fRVBFZk",
        "outputId": "ede42af7-fa82-4b8e-89dd-343c1f1f6925",
        "colab": {
          "base_uri": "https://localhost:8080/",
          "height": 85
        }
      },
      "source": [
        "print(sentiment_model.score(train_matrix, train_data['sentiment']))\n",
        "print(sentiment_model.score(test_matrix, test_data['sentiment']))\n",
        "print(simple_model.score(train_matrix_word_subset, train_data['sentiment']))\n",
        "print(simple_model.score(test_matrix_word_subset, test_data['sentiment']))"
      ],
      "execution_count": null,
      "outputs": [
        {
          "output_type": "stream",
          "text": [
            "0.9477573904179408\n",
            "0.9320854331653468\n",
            "0.8668225700065959\n",
            "0.8693604511639069\n"
          ],
          "name": "stdout"
        }
      ]
    },
    {
      "cell_type": "code",
      "metadata": {
        "id": "6P8SGF5VCqgO",
        "outputId": "30b2d56c-989f-4a16-cfe8-309b2fdee213",
        "colab": {
          "base_uri": "https://localhost:8080/",
          "height": 68
        }
      },
      "source": [
        "print(len(train_data))\n",
        "print(len(train_data[train_data['sentiment']==1]))\n",
        "print(len(test_data[test_data['sentiment']==1])/len(test_data))"
      ],
      "execution_count": null,
      "outputs": [
        {
          "output_type": "stream",
          "text": [
            "133416\n",
            "112164\n",
            "0.8427825773938085\n"
          ],
          "name": "stdout"
        }
      ]
    }
  ]
}