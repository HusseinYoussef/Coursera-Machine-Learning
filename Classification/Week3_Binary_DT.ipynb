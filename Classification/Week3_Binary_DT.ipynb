{
  "nbformat": 4,
  "nbformat_minor": 0,
  "metadata": {
    "colab": {
      "name": "ML Specialization.ipynb",
      "provenance": [],
      "collapsed_sections": [],
      "toc_visible": true,
      "machine_shape": "hm"
    },
    "kernelspec": {
      "name": "python3",
      "display_name": "Python 3"
    }
  },
  "cells": [
    {
      "cell_type": "code",
      "metadata": {
        "id": "yRolDTzX98Rx",
        "outputId": "9e50bfe7-3250-421b-9e2e-def0855d6d06",
        "colab": {
          "base_uri": "https://localhost:8080/",
          "height": 34
        }
      },
      "source": [
        "from google.colab import drive\n",
        "drive.mount('/content/drive')"
      ],
      "execution_count": 1,
      "outputs": [
        {
          "output_type": "stream",
          "text": [
            "Mounted at /content/drive\n"
          ],
          "name": "stdout"
        }
      ]
    },
    {
      "cell_type": "code",
      "metadata": {
        "id": "wsf2asxy95cH"
      },
      "source": [
        "import pandas as pd\n",
        "import numpy as np"
      ],
      "execution_count": 88,
      "outputs": []
    },
    {
      "cell_type": "code",
      "metadata": {
        "id": "_8kEUz5uRG9x",
        "outputId": "8b1e160d-d527-447f-da08-2d6e39ebff41",
        "colab": {
          "base_uri": "https://localhost:8080/",
          "height": 71
        }
      },
      "source": [
        "loans = pd.read_csv('/content/drive/My Drive/ML Specialization/lending-club-data.csv')"
      ],
      "execution_count": 106,
      "outputs": [
        {
          "output_type": "stream",
          "text": [
            "/usr/local/lib/python3.6/dist-packages/IPython/core/interactiveshell.py:2718: DtypeWarning: Columns (19,47) have mixed types.Specify dtype option on import or set low_memory=False.\n",
            "  interactivity=interactivity, compiler=compiler, result=result)\n"
          ],
          "name": "stderr"
        }
      ]
    },
    {
      "cell_type": "code",
      "metadata": {
        "id": "Q4i1yK04IKSe"
      },
      "source": [
        "import json\n",
        "with open('/content/drive/My Drive/ML Specialization/module-5-assignment-2-train-idx.json', 'r') as json_file:\n",
        "    train_indices = json.load(json_file)\n",
        "with open('/content/drive/My Drive/ML Specialization/module-5-assignment-2-test-idx.json', 'r') as json_file:\n",
        "    test_indices = json.load(json_file)"
      ],
      "execution_count": 107,
      "outputs": []
    },
    {
      "cell_type": "code",
      "metadata": {
        "id": "KWzYCend8GDN"
      },
      "source": [
        "loans['safe_loans'] = loans['bad_loans'].apply(lambda x : +1 if x==0 else -1)\n",
        "loans.drop('bad_loans', axis='columns', inplace=True)"
      ],
      "execution_count": 108,
      "outputs": []
    },
    {
      "cell_type": "code",
      "metadata": {
        "id": "0Kg8lULa9Vt1"
      },
      "source": [
        "features = ['grade',              # grade of the loan\n",
        "            'term',               # the term of the loan\n",
        "            'home_ownership',     # home_ownership status: own, mortgage or rent\n",
        "            'emp_length',         # number of years of employment\n",
        "           ]\n",
        "target = 'safe_loans'\n",
        "\n",
        "# Extract the feature columns and target column\n",
        "loans = loans[features + [target]]"
      ],
      "execution_count": 109,
      "outputs": []
    },
    {
      "cell_type": "code",
      "metadata": {
        "id": "0aqvA3MOiyiv",
        "outputId": "3c30e0e6-a7be-4977-af66-6b2e035deba8",
        "colab": {
          "base_uri": "https://localhost:8080/",
          "height": 204
        }
      },
      "source": [
        "loans.head()"
      ],
      "execution_count": 110,
      "outputs": [
        {
          "output_type": "execute_result",
          "data": {
            "text/html": [
              "<div>\n",
              "<style scoped>\n",
              "    .dataframe tbody tr th:only-of-type {\n",
              "        vertical-align: middle;\n",
              "    }\n",
              "\n",
              "    .dataframe tbody tr th {\n",
              "        vertical-align: top;\n",
              "    }\n",
              "\n",
              "    .dataframe thead th {\n",
              "        text-align: right;\n",
              "    }\n",
              "</style>\n",
              "<table border=\"1\" class=\"dataframe\">\n",
              "  <thead>\n",
              "    <tr style=\"text-align: right;\">\n",
              "      <th></th>\n",
              "      <th>grade</th>\n",
              "      <th>term</th>\n",
              "      <th>home_ownership</th>\n",
              "      <th>emp_length</th>\n",
              "      <th>safe_loans</th>\n",
              "    </tr>\n",
              "  </thead>\n",
              "  <tbody>\n",
              "    <tr>\n",
              "      <th>0</th>\n",
              "      <td>B</td>\n",
              "      <td>36 months</td>\n",
              "      <td>RENT</td>\n",
              "      <td>10+ years</td>\n",
              "      <td>1</td>\n",
              "    </tr>\n",
              "    <tr>\n",
              "      <th>1</th>\n",
              "      <td>C</td>\n",
              "      <td>60 months</td>\n",
              "      <td>RENT</td>\n",
              "      <td>&lt; 1 year</td>\n",
              "      <td>-1</td>\n",
              "    </tr>\n",
              "    <tr>\n",
              "      <th>2</th>\n",
              "      <td>C</td>\n",
              "      <td>36 months</td>\n",
              "      <td>RENT</td>\n",
              "      <td>10+ years</td>\n",
              "      <td>1</td>\n",
              "    </tr>\n",
              "    <tr>\n",
              "      <th>3</th>\n",
              "      <td>C</td>\n",
              "      <td>36 months</td>\n",
              "      <td>RENT</td>\n",
              "      <td>10+ years</td>\n",
              "      <td>1</td>\n",
              "    </tr>\n",
              "    <tr>\n",
              "      <th>4</th>\n",
              "      <td>A</td>\n",
              "      <td>36 months</td>\n",
              "      <td>RENT</td>\n",
              "      <td>3 years</td>\n",
              "      <td>1</td>\n",
              "    </tr>\n",
              "  </tbody>\n",
              "</table>\n",
              "</div>"
            ],
            "text/plain": [
              "  grade        term home_ownership emp_length  safe_loans\n",
              "0     B   36 months           RENT  10+ years           1\n",
              "1     C   60 months           RENT   < 1 year          -1\n",
              "2     C   36 months           RENT  10+ years           1\n",
              "3     C   36 months           RENT  10+ years           1\n",
              "4     A   36 months           RENT    3 years           1"
            ]
          },
          "metadata": {
            "tags": []
          },
          "execution_count": 110
        }
      ]
    },
    {
      "cell_type": "code",
      "metadata": {
        "id": "gRzZA0ICYzn1"
      },
      "source": [
        "categorical_variables = []\n",
        "for feat_name, feat_type in zip(loans.columns, loans.dtypes):\n",
        "    if feat_type == object:\n",
        "        categorical_variables.append(feat_name)\n",
        "\n",
        "for feature in categorical_variables:\n",
        "    loans_data_one_hot_encoded = pd.get_dummies(loans[feature], prefix=feature, dummy_na=True)\n",
        "    \n",
        "    for column in loans_data_one_hot_encoded.columns:\n",
        "        loans[column]= loans_data_one_hot_encoded[column]\n",
        "    \n",
        "    loans.drop(feature, axis='columns', inplace=True)"
      ],
      "execution_count": 114,
      "outputs": []
    },
    {
      "cell_type": "code",
      "metadata": {
        "id": "enlwf4fx9cRk",
        "outputId": "a9e8f20b-834f-4a47-8ece-cea17c5a1b1b",
        "colab": {
          "base_uri": "https://localhost:8080/",
          "height": 187
        }
      },
      "source": [
        "print(loans.columns)\n",
        "print(len(loans.columns))"
      ],
      "execution_count": 119,
      "outputs": [
        {
          "output_type": "stream",
          "text": [
            "Index(['safe_loans', 'grade_A', 'grade_B', 'grade_C', 'grade_D', 'grade_E',\n",
            "       'grade_F', 'grade_G', 'grade_nan', 'term_ 36 months', 'term_ 60 months',\n",
            "       'term_nan', 'home_ownership_MORTGAGE', 'home_ownership_OTHER',\n",
            "       'home_ownership_OWN', 'home_ownership_RENT', 'home_ownership_nan',\n",
            "       'emp_length_1 year', 'emp_length_10+ years', 'emp_length_2 years',\n",
            "       'emp_length_3 years', 'emp_length_4 years', 'emp_length_5 years',\n",
            "       'emp_length_6 years', 'emp_length_7 years', 'emp_length_8 years',\n",
            "       'emp_length_9 years', 'emp_length_< 1 year', 'emp_length_nan'],\n",
            "      dtype='object')\n",
            "29\n"
          ],
          "name": "stdout"
        }
      ]
    },
    {
      "cell_type": "code",
      "metadata": {
        "id": "kjNteFW78LzG"
      },
      "source": [
        "train_data = loans.iloc[train_indices]\n",
        "test_data = loans.iloc[test_indices]"
      ],
      "execution_count": 120,
      "outputs": []
    },
    {
      "cell_type": "code",
      "metadata": {
        "id": "IgJzsUFoAySJ"
      },
      "source": [
        "def intermediate_node_num_mistakes(labels_in_node):\n",
        "\n",
        "    if len(labels_in_node) == 0:\n",
        "        return 0    \n",
        "    safe_num = np.sum(labels_in_node==1)    \n",
        "    risky_num = np.sum(labels_in_node==-1)    \n",
        "    return min(safe_num, risky_num)"
      ],
      "execution_count": 121,
      "outputs": []
    },
    {
      "cell_type": "code",
      "metadata": {
        "id": "z-yATYuNsD7d",
        "outputId": "9be1971a-21b2-44b1-aaf5-03ddb3cfc111",
        "colab": {
          "base_uri": "https://localhost:8080/",
          "height": 68
        }
      },
      "source": [
        "# Test case 1\n",
        "example_labels = pd.Series([-1, -1, 1, 1, 1])\n",
        "if intermediate_node_num_mistakes(example_labels) == 2:\n",
        "    print('Test passed!')\n",
        "else:\n",
        "    print('Test 1 failed... try again!')\n",
        "\n",
        "# Test case 2\n",
        "example_labels = pd.Series([-1, -1, 1, 1, 1, 1, 1])\n",
        "if intermediate_node_num_mistakes(example_labels) == 2:\n",
        "    print('Test passed!')\n",
        "else:\n",
        "    print('Test 3 failed... try again!')\n",
        "    \n",
        "# Test case 3\n",
        "example_labels = pd.Series([-1, -1, -1, -1, -1, 1, 1])\n",
        "if intermediate_node_num_mistakes(example_labels) == 2:\n",
        "    print('Test passed!')\n",
        "else:\n",
        "    print('Test 3 failed... try again!')"
      ],
      "execution_count": 122,
      "outputs": [
        {
          "output_type": "stream",
          "text": [
            "Test passed!\n",
            "Test passed!\n",
            "Test passed!\n"
          ],
          "name": "stdout"
        }
      ]
    },
    {
      "cell_type": "code",
      "metadata": {
        "id": "XWbNMl2y0MR9"
      },
      "source": [
        "def best_splitting_feature(data, features, target):\n",
        "    \n",
        "    target_values = data[target]\n",
        "    best_feature = None # Keep track of the best feature \n",
        "    best_error = 10     # Keep track of the best error so far \n",
        "    # Note: Since error is always <= 1, we should intialize it with something larger than 1.\n",
        "\n",
        "    # Convert to float to make sure error gets computed correctly.\n",
        "    num_data_points = float(len(data))  \n",
        "    \n",
        "    # Loop through each feature to consider splitting on that feature\n",
        "    for feature in features:\n",
        "        \n",
        "        # The left split will have all data points where the feature value is 0\n",
        "        left_split = data[data[feature] == 0]\n",
        "        \n",
        "        # The right split will have all data points where the feature value is 1\n",
        "        ## YOUR CODE HERE\n",
        "        right_split = data[data[feature] == 1]\n",
        "            \n",
        "        # Calculate the number of misclassified examples in the left split.\n",
        "        # Remember that we implemented a function for this! (It was called intermediate_node_num_mistakes)\n",
        "        left_mistakes = intermediate_node_num_mistakes(left_split[target])\n",
        "\n",
        "        # Calculate the number of misclassified examples in the right split.\n",
        "        right_mistakes = intermediate_node_num_mistakes(right_split[target])\n",
        "            \n",
        "        # Compute the classification error of this split.\n",
        "        # Error = (# of mistakes (left) + # of mistakes (right)) / (# of data points)\n",
        "        error = (left_mistakes + right_mistakes) / num_data_points\n",
        "\n",
        "        # If this is the best error we have found so far, store the feature as best_feature and the error as best_error\n",
        "        if error < best_error:\n",
        "            best_error = error\n",
        "            best_feature = feature\n",
        "    \n",
        "    return best_feature # Return the best feature we found"
      ],
      "execution_count": 130,
      "outputs": []
    },
    {
      "cell_type": "code",
      "metadata": {
        "id": "fmorqR693a_z"
      },
      "source": [
        "def create_leaf(target_values):    \n",
        "    # Create a leaf node\n",
        "    leaf = {'splitting_feature' : None,\n",
        "            'left' : None,\n",
        "            'right' : None,\n",
        "            'is_leaf': True\n",
        "            }   ## YOUR CODE HERE \n",
        "   \n",
        "    # Count the number of data points that are +1 and -1 in this node.\n",
        "    num_ones = len(target_values[target_values == +1])\n",
        "    num_minus_ones = len(target_values[target_values == -1])    \n",
        "\n",
        "    # For the leaf node, set the prediction to be the majority class.\n",
        "    # Store the predicted class (1 or -1) in leaf['prediction']\n",
        "    if num_ones > num_minus_ones:\n",
        "        leaf['prediction'] = 1         ## YOUR CODE HERE\n",
        "    else:\n",
        "        leaf['prediction'] = -1         ## YOUR CODE HERE        \n",
        "\n",
        "    # Return the leaf node\n",
        "    return leaf"
      ],
      "execution_count": 131,
      "outputs": []
    },
    {
      "cell_type": "code",
      "metadata": {
        "id": "Aawr7cyG6USa"
      },
      "source": [
        "def decision_tree_create(data, features, target, current_depth = 0, max_depth = 10):\n",
        "    remaining_features = features[:] # Make a copy of the features.\n",
        "    \n",
        "    target_values = data[target]\n",
        "    print(\"--------------------------------------------------------------------\")\n",
        "    print(\"Subtree, depth = %s (%s data points).\" % (current_depth, len(target_values)))\n",
        "    \n",
        "\n",
        "    # Stopping condition 1\n",
        "    # (Check if there are mistakes at current node.\n",
        "    # Recall you wrote a function intermediate_node_num_mistakes to compute this.)\n",
        "    if  intermediate_node_num_mistakes(target_values) == 0:  ## YOUR CODE HERE\n",
        "        print(\"Stopping condition 1 reached.\")\n",
        "        # If not mistakes at current node, make current node a leaf node\n",
        "        return create_leaf(target_values)\n",
        "    \n",
        "    # Stopping condition 2 (check if there are remaining features to consider splitting on)\n",
        "    if remaining_features == []:   ## YOUR CODE HERE\n",
        "        print(\"Stopping condition 2 reached.\")\n",
        "        # If there are no remaining features to consider, make current node a leaf node\n",
        "        return create_leaf(target_values)    \n",
        "    \n",
        "    # Additional stopping condition (limit tree depth)\n",
        "    if current_depth >= max_depth:  ## YOUR CODE HERE\n",
        "        print(\"Reached maximum depth. Stopping for now.\")\n",
        "        # If the max tree depth has been reached, make current node a leaf node\n",
        "        return create_leaf(target_values)\n",
        "\n",
        "    # Find the best splitting feature (recall the function best_splitting_feature implemented above)\n",
        "    splitting_feature = best_splitting_feature(data, remaining_features, target)\n",
        "    \n",
        "    # Split on the best feature that we found. \n",
        "    left_split = data[data[splitting_feature] == 0]\n",
        "    right_split =  data[data[splitting_feature] == 1]\n",
        "    remaining_features.remove(splitting_feature)\n",
        "    print(\"Split on feature %s. (%s, %s)\" % (\\\n",
        "                      splitting_feature, len(left_split), len(right_split)))\n",
        "    \n",
        "    # Create a leaf node if the split is \"perfect\"\n",
        "    if len(left_split) == len(data):\n",
        "        print(\"Creating leaf node.\")\n",
        "        return create_leaf(left_split[target])\n",
        "    if len(right_split) == len(data):\n",
        "        print(\"Creating leaf node.\")\n",
        "        return create_leaf(right_split[target])\n",
        "\n",
        "        \n",
        "    # Repeat (recurse) on left and right subtrees\n",
        "    left_tree = decision_tree_create(left_split, remaining_features, target, current_depth + 1, max_depth)        \n",
        "    ## YOUR CODE HERE\n",
        "    right_tree = decision_tree_create(right_split, remaining_features, target, current_depth + 1, max_depth)\n",
        "\n",
        "    return {'is_leaf'          : False, \n",
        "            'prediction'       : None,\n",
        "            'splitting_feature': splitting_feature,\n",
        "            'left'             : left_tree, \n",
        "            'right'            : right_tree\n",
        "            }"
      ],
      "execution_count": 132,
      "outputs": []
    },
    {
      "cell_type": "code",
      "metadata": {
        "id": "7UNgdcpw7uDK",
        "outputId": "c5c42aeb-7f8c-47b4-aa1b-31205d322599",
        "colab": {
          "base_uri": "https://localhost:8080/",
          "height": 54
        }
      },
      "source": [
        "new_features = list(loans.columns)\n",
        "new_features.remove('safe_loans')\n",
        "print(new_features)"
      ],
      "execution_count": 133,
      "outputs": [
        {
          "output_type": "stream",
          "text": [
            "['grade_A', 'grade_B', 'grade_C', 'grade_D', 'grade_E', 'grade_F', 'grade_G', 'grade_nan', 'term_ 36 months', 'term_ 60 months', 'term_nan', 'home_ownership_MORTGAGE', 'home_ownership_OTHER', 'home_ownership_OWN', 'home_ownership_RENT', 'home_ownership_nan', 'emp_length_1 year', 'emp_length_10+ years', 'emp_length_2 years', 'emp_length_3 years', 'emp_length_4 years', 'emp_length_5 years', 'emp_length_6 years', 'emp_length_7 years', 'emp_length_8 years', 'emp_length_9 years', 'emp_length_< 1 year', 'emp_length_nan']\n"
          ],
          "name": "stdout"
        }
      ]
    },
    {
      "cell_type": "code",
      "metadata": {
        "id": "gfa2U7MTCdBW",
        "outputId": "55b2acff-f854-4b57-94c2-8d0ec39c64d1",
        "colab": {
          "base_uri": "https://localhost:8080/",
          "height": 1000
        }
      },
      "source": [
        "my_decision_tree = decision_tree_create(train_data, new_features, 'safe_loans', max_depth=6)"
      ],
      "execution_count": 134,
      "outputs": [
        {
          "output_type": "stream",
          "text": [
            "--------------------------------------------------------------------\n",
            "Subtree, depth = 0 (37224 data points).\n",
            "Split on feature term_ 36 months. (9223, 28001)\n",
            "--------------------------------------------------------------------\n",
            "Subtree, depth = 1 (9223 data points).\n",
            "Split on feature grade_A. (9122, 101)\n",
            "--------------------------------------------------------------------\n",
            "Subtree, depth = 2 (9122 data points).\n",
            "Split on feature grade_B. (8074, 1048)\n",
            "--------------------------------------------------------------------\n",
            "Subtree, depth = 3 (8074 data points).\n",
            "Split on feature grade_C. (5884, 2190)\n",
            "--------------------------------------------------------------------\n",
            "Subtree, depth = 4 (5884 data points).\n",
            "Split on feature grade_D. (3826, 2058)\n",
            "--------------------------------------------------------------------\n",
            "Subtree, depth = 5 (3826 data points).\n",
            "Split on feature grade_E. (1693, 2133)\n",
            "--------------------------------------------------------------------\n",
            "Subtree, depth = 6 (1693 data points).\n",
            "Reached maximum depth. Stopping for now.\n",
            "--------------------------------------------------------------------\n",
            "Subtree, depth = 6 (2133 data points).\n",
            "Reached maximum depth. Stopping for now.\n",
            "--------------------------------------------------------------------\n",
            "Subtree, depth = 5 (2058 data points).\n",
            "Split on feature grade_E. (2058, 0)\n",
            "Creating leaf node.\n",
            "--------------------------------------------------------------------\n",
            "Subtree, depth = 4 (2190 data points).\n",
            "Split on feature grade_D. (2190, 0)\n",
            "Creating leaf node.\n",
            "--------------------------------------------------------------------\n",
            "Subtree, depth = 3 (1048 data points).\n",
            "Split on feature emp_length_5 years. (969, 79)\n",
            "--------------------------------------------------------------------\n",
            "Subtree, depth = 4 (969 data points).\n",
            "Split on feature grade_C. (969, 0)\n",
            "Creating leaf node.\n",
            "--------------------------------------------------------------------\n",
            "Subtree, depth = 4 (79 data points).\n",
            "Split on feature home_ownership_MORTGAGE. (34, 45)\n",
            "--------------------------------------------------------------------\n",
            "Subtree, depth = 5 (34 data points).\n",
            "Split on feature grade_C. (34, 0)\n",
            "Creating leaf node.\n",
            "--------------------------------------------------------------------\n",
            "Subtree, depth = 5 (45 data points).\n",
            "Split on feature grade_C. (45, 0)\n",
            "Creating leaf node.\n",
            "--------------------------------------------------------------------\n",
            "Subtree, depth = 2 (101 data points).\n",
            "Split on feature emp_length_nan. (96, 5)\n",
            "--------------------------------------------------------------------\n",
            "Subtree, depth = 3 (96 data points).\n",
            "Split on feature emp_length_< 1 year. (85, 11)\n",
            "--------------------------------------------------------------------\n",
            "Subtree, depth = 4 (85 data points).\n",
            "Split on feature grade_B. (85, 0)\n",
            "Creating leaf node.\n",
            "--------------------------------------------------------------------\n",
            "Subtree, depth = 4 (11 data points).\n",
            "Split on feature grade_B. (11, 0)\n",
            "Creating leaf node.\n",
            "--------------------------------------------------------------------\n",
            "Subtree, depth = 3 (5 data points).\n",
            "Split on feature grade_B. (5, 0)\n",
            "Creating leaf node.\n",
            "--------------------------------------------------------------------\n",
            "Subtree, depth = 1 (28001 data points).\n",
            "Split on feature grade_D. (23300, 4701)\n",
            "--------------------------------------------------------------------\n",
            "Subtree, depth = 2 (23300 data points).\n",
            "Split on feature grade_E. (22024, 1276)\n",
            "--------------------------------------------------------------------\n",
            "Subtree, depth = 3 (22024 data points).\n",
            "Split on feature grade_F. (21666, 358)\n",
            "--------------------------------------------------------------------\n",
            "Subtree, depth = 4 (21666 data points).\n",
            "Split on feature emp_length_nan. (20734, 932)\n",
            "--------------------------------------------------------------------\n",
            "Subtree, depth = 5 (20734 data points).\n",
            "Split on feature grade_G. (20638, 96)\n",
            "--------------------------------------------------------------------\n",
            "Subtree, depth = 6 (20638 data points).\n",
            "Reached maximum depth. Stopping for now.\n",
            "--------------------------------------------------------------------\n",
            "Subtree, depth = 6 (96 data points).\n",
            "Reached maximum depth. Stopping for now.\n",
            "--------------------------------------------------------------------\n",
            "Subtree, depth = 5 (932 data points).\n",
            "Split on feature grade_A. (702, 230)\n",
            "--------------------------------------------------------------------\n",
            "Subtree, depth = 6 (702 data points).\n",
            "Reached maximum depth. Stopping for now.\n",
            "--------------------------------------------------------------------\n",
            "Subtree, depth = 6 (230 data points).\n",
            "Reached maximum depth. Stopping for now.\n",
            "--------------------------------------------------------------------\n",
            "Subtree, depth = 4 (358 data points).\n",
            "Split on feature emp_length_8 years. (347, 11)\n",
            "--------------------------------------------------------------------\n",
            "Subtree, depth = 5 (347 data points).\n",
            "Split on feature grade_A. (347, 0)\n",
            "Creating leaf node.\n",
            "--------------------------------------------------------------------\n",
            "Subtree, depth = 5 (11 data points).\n",
            "Split on feature home_ownership_OWN. (9, 2)\n",
            "--------------------------------------------------------------------\n",
            "Subtree, depth = 6 (9 data points).\n",
            "Reached maximum depth. Stopping for now.\n",
            "--------------------------------------------------------------------\n",
            "Subtree, depth = 6 (2 data points).\n",
            "Stopping condition 1 reached.\n",
            "--------------------------------------------------------------------\n",
            "Subtree, depth = 3 (1276 data points).\n",
            "Split on feature grade_A. (1276, 0)\n",
            "Creating leaf node.\n",
            "--------------------------------------------------------------------\n",
            "Subtree, depth = 2 (4701 data points).\n",
            "Split on feature grade_A. (4701, 0)\n",
            "Creating leaf node.\n"
          ],
          "name": "stdout"
        }
      ]
    },
    {
      "cell_type": "code",
      "metadata": {
        "id": "QC6W-RWXDXbj"
      },
      "source": [
        "def classify(tree, x, annotate = False):\n",
        "    # if the node is a leaf node.\n",
        "    if tree['is_leaf']:\n",
        "        if annotate:\n",
        "             print(\"At leaf, predicting %s\" % tree['prediction'])\n",
        "        return tree['prediction']\n",
        "    else:\n",
        "        # split on feature.\n",
        "        split_feature_value = x[tree['splitting_feature']]\n",
        "        if annotate:\n",
        "             print(\"Split on %s = %s\" % (tree['splitting_feature'], split_feature_value))\n",
        "        if split_feature_value == 0:\n",
        "            return classify(tree['left'], x, annotate)\n",
        "        else:\n",
        "            return classify(tree['right'], x, annotate)"
      ],
      "execution_count": 145,
      "outputs": []
    },
    {
      "cell_type": "code",
      "metadata": {
        "id": "JrToX1mFDxmx",
        "outputId": "310148fc-6b11-43c0-83ad-ad28ed34176d",
        "colab": {
          "base_uri": "https://localhost:8080/",
          "height": 646
        }
      },
      "source": [
        "print(test_data.iloc[0])\n",
        "print('Predicted class: %s ' % classify(my_decision_tree, test_data.iloc[0], True))"
      ],
      "execution_count": 147,
      "outputs": [
        {
          "output_type": "stream",
          "text": [
            "safe_loans                -1\n",
            "grade_A                    0\n",
            "grade_B                    0\n",
            "grade_C                    0\n",
            "grade_D                    1\n",
            "grade_E                    0\n",
            "grade_F                    0\n",
            "grade_G                    0\n",
            "grade_nan                  0\n",
            "term_ 36 months            0\n",
            "term_ 60 months            1\n",
            "term_nan                   0\n",
            "home_ownership_MORTGAGE    0\n",
            "home_ownership_OTHER       0\n",
            "home_ownership_OWN         0\n",
            "home_ownership_RENT        1\n",
            "home_ownership_nan         0\n",
            "emp_length_1 year          0\n",
            "emp_length_10+ years       0\n",
            "emp_length_2 years         1\n",
            "emp_length_3 years         0\n",
            "emp_length_4 years         0\n",
            "emp_length_5 years         0\n",
            "emp_length_6 years         0\n",
            "emp_length_7 years         0\n",
            "emp_length_8 years         0\n",
            "emp_length_9 years         0\n",
            "emp_length_< 1 year        0\n",
            "emp_length_nan             0\n",
            "Name: 24, dtype: int64\n",
            "Split on term_ 36 months = 0\n",
            "Split on grade_A = 0\n",
            "Split on grade_B = 0\n",
            "Split on grade_C = 0\n",
            "Split on grade_D = 1\n",
            "At leaf, predicting -1\n",
            "Predicted class: -1 \n"
          ],
          "name": "stdout"
        }
      ]
    },
    {
      "cell_type": "code",
      "metadata": {
        "id": "IHJOuGKvEkGT",
        "outputId": "67a0b1b5-9965-4c55-8e43-c3a54fb4aac3",
        "colab": {
          "base_uri": "https://localhost:8080/",
          "height": 34
        }
      },
      "source": [
        "predictions = test_data.apply(lambda x: classify(my_decision_tree, x), axis=1)\n",
        "print('Acc: ', np.sum(predictions ==test_data['safe_loans']) / len(test_data))"
      ],
      "execution_count": 148,
      "outputs": [
        {
          "output_type": "stream",
          "text": [
            "Acc:  0.6162214562688496\n"
          ],
          "name": "stdout"
        }
      ]
    },
    {
      "cell_type": "code",
      "metadata": {
        "id": "W6rhvqRlGHhd"
      },
      "source": [
        "def print_stump(tree, name = 'root'):\n",
        "    split_name = tree['splitting_feature'] # split_name is something like 'term. 36 months'\n",
        "    if split_name is None:\n",
        "        print(\"(leaf, label: %s)\" % tree['prediction'])\n",
        "        return None\n",
        "    split_feature, split_value = split_name.split('_', 1)\n",
        "    print('                       %s' % name)\n",
        "    print('         |---------------|----------------|')\n",
        "    print('         |                                |')\n",
        "    print('         |                                |')\n",
        "    print('         |                                |')\n",
        "    print('  [{0} == 0]               [{0} == 1]    '.format(split_name))\n",
        "    print('         |                                |')\n",
        "    print('         |                                |')\n",
        "    print('         |                                |')\n",
        "    print('    (%s)                         (%s)' \\\n",
        "        % (('leaf, label: ' + str(tree['left']['prediction']) if tree['left']['is_leaf'] else 'subtree'),\n",
        "           ('leaf, label: ' + str(tree['right']['prediction']) if tree['right']['is_leaf'] else 'subtree')))"
      ],
      "execution_count": 155,
      "outputs": []
    },
    {
      "cell_type": "code",
      "metadata": {
        "id": "Kn9xGpXXGTAA",
        "outputId": "d20d2b8c-f987-419e-9c22-70a003e82b78",
        "colab": {
          "base_uri": "https://localhost:8080/",
          "height": 187
        }
      },
      "source": [
        "print_stump(my_decision_tree, 'root')"
      ],
      "execution_count": 156,
      "outputs": [
        {
          "output_type": "stream",
          "text": [
            "                       root\n",
            "         |---------------|----------------|\n",
            "         |                                |\n",
            "         |                                |\n",
            "         |                                |\n",
            "  [term_ 36 months == 0]               [term_ 36 months == 1]    \n",
            "         |                                |\n",
            "         |                                |\n",
            "         |                                |\n",
            "    (subtree)                         (subtree)\n"
          ],
          "name": "stdout"
        }
      ]
    },
    {
      "cell_type": "code",
      "metadata": {
        "id": "1OhW72JCHFcI",
        "outputId": "d7b7f370-7b19-44a1-fe91-ea0f5fd0dda0",
        "colab": {
          "base_uri": "https://localhost:8080/",
          "height": 187
        }
      },
      "source": [
        "print_stump(my_decision_tree['left'], my_decision_tree['splitting_feature'])"
      ],
      "execution_count": 157,
      "outputs": [
        {
          "output_type": "stream",
          "text": [
            "                       term_ 36 months\n",
            "         |---------------|----------------|\n",
            "         |                                |\n",
            "         |                                |\n",
            "         |                                |\n",
            "  [grade_A == 0]               [grade_A == 1]    \n",
            "         |                                |\n",
            "         |                                |\n",
            "         |                                |\n",
            "    (subtree)                         (subtree)\n"
          ],
          "name": "stdout"
        }
      ]
    },
    {
      "cell_type": "code",
      "metadata": {
        "id": "ZLBWs6CyHNTp",
        "outputId": "2df741c8-f818-4fee-a24a-6c8851458973",
        "colab": {
          "base_uri": "https://localhost:8080/",
          "height": 187
        }
      },
      "source": [
        "print_stump(my_decision_tree['left']['left'], my_decision_tree['left']['splitting_feature'])"
      ],
      "execution_count": 158,
      "outputs": [
        {
          "output_type": "stream",
          "text": [
            "                       grade_A\n",
            "         |---------------|----------------|\n",
            "         |                                |\n",
            "         |                                |\n",
            "         |                                |\n",
            "  [grade_B == 0]               [grade_B == 1]    \n",
            "         |                                |\n",
            "         |                                |\n",
            "         |                                |\n",
            "    (subtree)                         (subtree)\n"
          ],
          "name": "stdout"
        }
      ]
    },
    {
      "cell_type": "code",
      "metadata": {
        "id": "WO3oAOkzHglM",
        "outputId": "47b79419-273c-4fd2-ac6e-a5f45970fee2",
        "colab": {
          "base_uri": "https://localhost:8080/",
          "height": 187
        }
      },
      "source": [
        "print_stump(my_decision_tree['right'], my_decision_tree['splitting_feature'])"
      ],
      "execution_count": 159,
      "outputs": [
        {
          "output_type": "stream",
          "text": [
            "                       term_ 36 months\n",
            "         |---------------|----------------|\n",
            "         |                                |\n",
            "         |                                |\n",
            "         |                                |\n",
            "  [grade_D == 0]               [grade_D == 1]    \n",
            "         |                                |\n",
            "         |                                |\n",
            "         |                                |\n",
            "    (subtree)                         (leaf, label: -1)\n"
          ],
          "name": "stdout"
        }
      ]
    },
    {
      "cell_type": "code",
      "metadata": {
        "id": "eGBK8YNYHh9G",
        "outputId": "872c9d3f-f540-4aa0-f0a2-66dd535dc809",
        "colab": {
          "base_uri": "https://localhost:8080/",
          "height": 34
        }
      },
      "source": [
        "print_stump(my_decision_tree['right']['right'], my_decision_tree['right']['splitting_feature'])"
      ],
      "execution_count": 160,
      "outputs": [
        {
          "output_type": "stream",
          "text": [
            "(leaf, label: -1)\n"
          ],
          "name": "stdout"
        }
      ]
    }
  ]
}