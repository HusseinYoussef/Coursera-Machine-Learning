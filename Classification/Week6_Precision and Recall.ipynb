{
  "nbformat": 4,
  "nbformat_minor": 0,
  "metadata": {
    "colab": {
      "name": "ML Specialization.ipynb",
      "provenance": [],
      "collapsed_sections": [],
      "machine_shape": "hm"
    },
    "kernelspec": {
      "name": "python3",
      "display_name": "Python 3"
    }
  },
  "cells": [
    {
      "cell_type": "code",
      "metadata": {
        "id": "yRolDTzX98Rx",
        "outputId": "6ebb38c1-f0ce-4a86-f31c-a2a0d24f3d1b",
        "colab": {
          "base_uri": "https://localhost:8080/",
          "height": 34
        }
      },
      "source": [
        "from google.colab import drive\n",
        "drive.mount('/content/drive')"
      ],
      "execution_count": null,
      "outputs": [
        {
          "output_type": "stream",
          "text": [
            "Mounted at /content/drive\n"
          ],
          "name": "stdout"
        }
      ]
    },
    {
      "cell_type": "code",
      "metadata": {
        "id": "wsf2asxy95cH"
      },
      "source": [
        "import pandas as pd\n",
        "import numpy as np"
      ],
      "execution_count": null,
      "outputs": []
    },
    {
      "cell_type": "code",
      "metadata": {
        "id": "kr9MEcxhg27f"
      },
      "source": [
        "products = pd.read_csv('/content/drive/My Drive/ML Specialization/amazon_baby.csv')"
      ],
      "execution_count": null,
      "outputs": []
    },
    {
      "cell_type": "code",
      "metadata": {
        "id": "Rl5_j552ayjt"
      },
      "source": [
        "import re\n",
        "import string\n",
        "\n",
        "def remove_punctuation(text):\n",
        "    pattern = f'[{string.punctuation}]'\n",
        "    return re.sub(pattern, '', text)\n",
        "\n",
        "products = products.fillna({'review':''})\n",
        "products['review_clean'] = products['review'].apply(remove_punctuation)\n",
        "products = products[products['rating'] != 3]\n",
        "products['sentiment'] = products['rating'].apply(lambda rating : +1 if rating > 3 else -1)"
      ],
      "execution_count": null,
      "outputs": []
    },
    {
      "cell_type": "code",
      "metadata": {
        "id": "gNDzglTFc415"
      },
      "source": [
        "import json\n",
        "\n",
        "with open('/content/drive/My Drive/ML Specialization/module-9-assignment-train-idx.json', 'r') as f:\n",
        "    train_indices = json.load(f)\n",
        "with open('/content/drive/My Drive/ML Specialization/module-9-assignment-test-idx.json', 'r') as f:\n",
        "    test_indices = json.load(f)\n",
        "\n",
        "train_data = products.iloc[train_indices]\n",
        "test_data = products.iloc[test_indices]"
      ],
      "execution_count": null,
      "outputs": []
    },
    {
      "cell_type": "code",
      "metadata": {
        "id": "KWzYCend8GDN"
      },
      "source": [
        "from sklearn.feature_extraction.text import CountVectorizer\n",
        "\n",
        "vectorizer = CountVectorizer(token_pattern=r'\\b\\w+\\b')\n",
        "train_matrix = vectorizer.fit_transform(train_data['review_clean'])\n",
        "test_matrix = vectorizer.transform(test_data['review_clean'])"
      ],
      "execution_count": null,
      "outputs": []
    },
    {
      "cell_type": "code",
      "metadata": {
        "id": "0aqvA3MOiyiv",
        "outputId": "dc3be59a-868a-4a68-ed56-adb9528ce48c",
        "colab": {
          "base_uri": "https://localhost:8080/",
          "height": 258
        }
      },
      "source": [
        "from sklearn.linear_model import LogisticRegression\n",
        "\n",
        "model = LogisticRegression()\n",
        "model.fit(train_matrix, train_data['sentiment'])"
      ],
      "execution_count": null,
      "outputs": [
        {
          "output_type": "stream",
          "text": [
            "/usr/local/lib/python3.6/dist-packages/sklearn/linear_model/_logistic.py:940: ConvergenceWarning: lbfgs failed to converge (status=1):\n",
            "STOP: TOTAL NO. of ITERATIONS REACHED LIMIT.\n",
            "\n",
            "Increase the number of iterations (max_iter) or scale the data as shown in:\n",
            "    https://scikit-learn.org/stable/modules/preprocessing.html\n",
            "Please also refer to the documentation for alternative solver options:\n",
            "    https://scikit-learn.org/stable/modules/linear_model.html#logistic-regression\n",
            "  extra_warning_msg=_LOGISTIC_SOLVER_CONVERGENCE_MSG)\n"
          ],
          "name": "stderr"
        },
        {
          "output_type": "execute_result",
          "data": {
            "text/plain": [
              "LogisticRegression(C=1.0, class_weight=None, dual=False, fit_intercept=True,\n",
              "                   intercept_scaling=1, l1_ratio=None, max_iter=100,\n",
              "                   multi_class='auto', n_jobs=None, penalty='l2',\n",
              "                   random_state=None, solver='lbfgs', tol=0.0001, verbose=0,\n",
              "                   warm_start=False)"
            ]
          },
          "metadata": {
            "tags": []
          },
          "execution_count": 21
        }
      ]
    },
    {
      "cell_type": "code",
      "metadata": {
        "id": "IRW7ZvzXiKZq",
        "outputId": "5bd4d20c-c53e-4d4c-a66f-d09c624e0b97",
        "colab": {
          "base_uri": "https://localhost:8080/",
          "height": 51
        }
      },
      "source": [
        "from sklearn.metrics import accuracy_score\n",
        "accuracy = accuracy_score(y_true=test_data['sentiment'].to_numpy(), y_pred=model.predict(test_matrix))\n",
        "print(\"Test Accuracy: %s\" % accuracy)\n",
        "\n",
        "baseline = len(test_data[test_data['sentiment'] == 1])/len(test_data)\n",
        "print(\"Baseline accuracy (majority class classifier): %s\" % baseline)"
      ],
      "execution_count": null,
      "outputs": [
        {
          "output_type": "stream",
          "text": [
            "Test Accuracy: 0.9320854331653468\n",
            "Baseline accuracy (majority class classifier): 0.8427825773938085\n"
          ],
          "name": "stdout"
        }
      ]
    },
    {
      "cell_type": "code",
      "metadata": {
        "id": "wIJYVq1VjFH9",
        "outputId": "d8137f9c-4170-4b90-ae21-ce11f1f77689",
        "colab": {
          "base_uri": "https://localhost:8080/",
          "height": 119
        }
      },
      "source": [
        "from sklearn.metrics import confusion_matrix\n",
        "cmat = confusion_matrix(y_true=test_data['sentiment'].to_numpy(),\n",
        "                        y_pred=model.predict(test_matrix),\n",
        "                        labels=model.classes_)    # use the same order of class as the LR model.\n",
        "print(' target_label | predicted_label | count ')\n",
        "print('--------------+-----------------+-------')\n",
        "# Print out the confusion matrix.\n",
        "# NOTE: Your tool may arrange entries in a different order. Consult appropriate manuals.\n",
        "for i, target_label in enumerate(model.classes_):\n",
        "    for j, predicted_label in enumerate(model.classes_):\n",
        "        print('{0:^13} | {1:^15} | {2:5d}'.format(target_label, predicted_label, cmat[i,j]))"
      ],
      "execution_count": null,
      "outputs": [
        {
          "output_type": "stream",
          "text": [
            " target_label | predicted_label | count \n",
            "--------------+-----------------+-------\n",
            "     -1       |       -1        |  3761\n",
            "     -1       |        1        |  1480\n",
            "      1       |       -1        |   784\n",
            "      1       |        1        | 27311\n"
          ],
          "name": "stdout"
        }
      ]
    },
    {
      "cell_type": "code",
      "metadata": {
        "id": "vLiE6dpWjKnA",
        "outputId": "6b155a70-d90f-4f33-e770-833715b070c0",
        "colab": {
          "base_uri": "https://localhost:8080/",
          "height": 51
        }
      },
      "source": [
        "from sklearn.metrics import precision_score, recall_score\n",
        "precision = precision_score(y_true=test_data['sentiment'].to_numpy(), \n",
        "                            y_pred=model.predict(test_matrix))\n",
        "print(\"Precision on test data: %s\" % precision)\n",
        "\n",
        "recall = recall_score(y_true=test_data['sentiment'].to_numpy(),\n",
        "                      y_pred=model.predict(test_matrix))\n",
        "print(\"Recall on test data: %s\" % recall)"
      ],
      "execution_count": 29,
      "outputs": [
        {
          "output_type": "stream",
          "text": [
            "Precision on test data: 0.9485950470633184\n",
            "Recall on test data: 0.9720946787684641\n"
          ],
          "name": "stdout"
        }
      ]
    },
    {
      "cell_type": "code",
      "metadata": {
        "id": "gRzZA0ICYzn1",
        "outputId": "8a1733c2-f8d5-4975-9ca9-dc2f695da638",
        "colab": {
          "base_uri": "https://localhost:8080/",
          "height": 306
        }
      },
      "source": [
        "probabilities = model.predict_proba(test_matrix)[:,1]\n",
        "threshold_values = np.linspace(0.5, 1, num=100)\n",
        "print(threshold_values)"
      ],
      "execution_count": 30,
      "outputs": [
        {
          "output_type": "stream",
          "text": [
            "[0.5        0.50505051 0.51010101 0.51515152 0.52020202 0.52525253\n",
            " 0.53030303 0.53535354 0.54040404 0.54545455 0.55050505 0.55555556\n",
            " 0.56060606 0.56565657 0.57070707 0.57575758 0.58080808 0.58585859\n",
            " 0.59090909 0.5959596  0.6010101  0.60606061 0.61111111 0.61616162\n",
            " 0.62121212 0.62626263 0.63131313 0.63636364 0.64141414 0.64646465\n",
            " 0.65151515 0.65656566 0.66161616 0.66666667 0.67171717 0.67676768\n",
            " 0.68181818 0.68686869 0.69191919 0.6969697  0.7020202  0.70707071\n",
            " 0.71212121 0.71717172 0.72222222 0.72727273 0.73232323 0.73737374\n",
            " 0.74242424 0.74747475 0.75252525 0.75757576 0.76262626 0.76767677\n",
            " 0.77272727 0.77777778 0.78282828 0.78787879 0.79292929 0.7979798\n",
            " 0.8030303  0.80808081 0.81313131 0.81818182 0.82323232 0.82828283\n",
            " 0.83333333 0.83838384 0.84343434 0.84848485 0.85353535 0.85858586\n",
            " 0.86363636 0.86868687 0.87373737 0.87878788 0.88383838 0.88888889\n",
            " 0.89393939 0.8989899  0.9040404  0.90909091 0.91414141 0.91919192\n",
            " 0.92424242 0.92929293 0.93434343 0.93939394 0.94444444 0.94949495\n",
            " 0.95454545 0.95959596 0.96464646 0.96969697 0.97474747 0.97979798\n",
            " 0.98484848 0.98989899 0.99494949 1.        ]\n"
          ],
          "name": "stdout"
        }
      ]
    },
    {
      "cell_type": "code",
      "metadata": {
        "id": "enlwf4fx9cRk",
        "outputId": "cf190d15-2a43-461b-9ff2-200dcb090f5b",
        "colab": {
          "base_uri": "https://localhost:8080/",
          "height": 365
        }
      },
      "source": [
        "import matplotlib.pyplot as plt\n",
        "\n",
        "def plot_pr_curve(precision, recall, title):\n",
        "    plt.rcParams['figure.figsize'] = 7, 5\n",
        "    plt.locator_params(axis = 'x', nbins = 5)\n",
        "    plt.plot(precision, recall, 'b-', linewidth=4.0, color = '#B0017F')\n",
        "    plt.title(title)\n",
        "    plt.xlabel('Precision')\n",
        "    plt.ylabel('Recall')\n",
        "    plt.rcParams.update({'font.size': 16})\n",
        "\n",
        "precision_all = []\n",
        "recall_all = []\n",
        "for val in threshold_values:\n",
        "    prediction = [1 if p >= val else -1 for p in probabilities]\n",
        "    pr = precision_score(y_true=test_data['sentiment'].to_numpy(), y_pred=prediction)\n",
        "    r = recall_score(y_true=test_data['sentiment'].to_numpy(), y_pred=prediction)\n",
        "    precision_all.append(pr)\n",
        "    recall_all.append(r)\n",
        "plot_pr_curve(precision_all, recall_all, 'Precision recall curve (all)')"
      ],
      "execution_count": 51,
      "outputs": [
        {
          "output_type": "display_data",
          "data": {
            "image/png": "[encoded data removed]",
            "text/plain": [
              "<Figure size 504x360 with 1 Axes>"
            ]
          },
          "metadata": {
            "tags": [],
            "needs_background": "light"
          }
        }
      ]
    },
    {
      "cell_type": "code",
      "metadata": {
        "id": "9tdCXV4qrhE-",
        "outputId": "0cb08c55-c12b-4572-842e-fe1c24df2c13",
        "colab": {
          "base_uri": "https://localhost:8080/",
          "height": 34
        }
      },
      "source": [
        "print(threshold_values[np.array(precision_all)*100 >= 96.5][0])"
      ],
      "execution_count": 71,
      "outputs": [
        {
          "output_type": "stream",
          "text": [
            "0.7171717171717171\n"
          ],
          "name": "stdout"
        }
      ]
    },
    {
      "cell_type": "code",
      "metadata": {
        "id": "5-N68XDWsKV8",
        "outputId": "c47efeb6-b431-4f24-8488-3c7f898c8e8d",
        "colab": {
          "base_uri": "https://localhost:8080/",
          "height": 34
        }
      },
      "source": [
        "prediction = [1 if p >= 0.98 else -1 for p in probabilities]\n",
        "print(np.sum((np.array(prediction) == -1) & (test_data['sentiment']==1)))"
      ],
      "execution_count": 63,
      "outputs": [
        {
          "output_type": "stream",
          "text": [
            "8492\n"
          ],
          "name": "stdout"
        }
      ]
    },
    {
      "cell_type": "code",
      "metadata": {
        "id": "wtq6g8MYtSEW"
      },
      "source": [
        "baby_reviews = test_data[test_data['name'].apply(lambda x: 'baby' in str(x).lower())]"
      ],
      "execution_count": 65,
      "outputs": []
    },
    {
      "cell_type": "code",
      "metadata": {
        "id": "R197w7O0tZV2"
      },
      "source": [
        "baby_matrix = vectorizer.transform(baby_reviews['review_clean'])\n",
        "probabilities = model.predict_proba(baby_matrix)[:,1]\n",
        "threshold_values = np.linspace(0.5, 1, num=100)"
      ],
      "execution_count": 66,
      "outputs": []
    },
    {
      "cell_type": "code",
      "metadata": {
        "id": "fmm7qhbnto6M",
        "outputId": "d951f4e0-3c21-4a1e-9fe1-ee16a194311a",
        "colab": {
          "base_uri": "https://localhost:8080/",
          "height": 365
        }
      },
      "source": [
        "precision_all = []\n",
        "recall_all = []\n",
        "for val in threshold_values:\n",
        "    prediction = [1 if p >= val else -1 for p in probabilities]\n",
        "    pr = precision_score(y_true=baby_reviews['sentiment'].to_numpy(), y_pred=prediction)\n",
        "    r = recall_score(y_true=baby_reviews['sentiment'].to_numpy(), y_pred=prediction)\n",
        "    precision_all.append(pr)\n",
        "    recall_all.append(r)\n",
        "\n",
        "plot_pr_curve(precision_all, recall_all, \"Precision-Recall (Baby)\")"
      ],
      "execution_count": 67,
      "outputs": [
        {
          "output_type": "display_data",
          "data": {
            "image/png": "[encoded data removed]",
            "text/plain": [
              "<Figure size 504x360 with 1 Axes>"
            ]
          },
          "metadata": {
            "tags": [],
            "needs_background": "light"
          }
        }
      ]
    },
    {
      "cell_type": "code",
      "metadata": {
        "id": "RE6PC8Xvt0YA",
        "outputId": "0bc6f2f1-1337-44c0-a941-cd7b24adff3b",
        "colab": {
          "base_uri": "https://localhost:8080/",
          "height": 34
        }
      },
      "source": [
        "print(threshold_values[np.array(precision_all)*100 >= 96.5][0])"
      ],
      "execution_count": 70,
      "outputs": [
        {
          "output_type": "stream",
          "text": [
            "0.7171717171717171\n"
          ],
          "name": "stdout"
        }
      ]
    }
  ]
}